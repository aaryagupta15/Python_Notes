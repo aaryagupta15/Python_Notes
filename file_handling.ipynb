{
 "cells": [
  {
   "cell_type": "markdown",
   "metadata": {},
   "source": [
    "#### File Handling  \n",
    "\n",
    "1. Open - file_object: open(\"filename\",\"mode\") ; modes: read, write, append, r+,w+,a+,x(create a new file);  \n",
    "\n",
    "2. Read - It raises error if file doesn't exists. It is a default mode for opening files. File handler is at the beginning.\n",
    "\n",
    "3. Write - While opening the file, by default mode is read mode. If we open a file in write mode, we cannot read that file then. If file already exists, it overwrites or create a new file if it doesn't exists. The file handler is at the beginnig.  \n",
    "\n",
    "4. Read+ -  Opens the file in both read and write mode. File handler exists at the beginning. It shows the error if the file doesn't exits. First READ and then WRITE.\n",
    "\n",
    "5. Write+ - Opens the file in both read and write. It overwrites the previous content & if file doesn't exists, it creates a new file. First WRITE and then READ.\n",
    "\n",
    "6. Append -  Opens the file in append mode. The file handler is at the last. If the file doesn't exists it creates a new file and if it exists it will write at the last of the previous text.\n",
    "\n",
    "7. Binary Files - rb,wb,ab,rb+,wb+,ab+  \n",
    "\n",
    "4. Close - close() method closes an open file.\n",
    "\n"
   ]
  },
  {
   "cell_type": "code",
   "execution_count": 1,
   "metadata": {},
   "outputs": [
    {
     "data": {
      "text/plain": [
       "<_io.TextIOWrapper name='file_name.txt' mode='x' encoding='cp1252'>"
      ]
     },
     "execution_count": 1,
     "metadata": {},
     "output_type": "execute_result"
    }
   ],
   "source": [
    "open(\"file_name.txt\",\"x\")"
   ]
  },
  {
   "cell_type": "code",
   "execution_count": 3,
   "metadata": {},
   "outputs": [
    {
     "name": "stdout",
     "output_type": "stream",
     "text": [
      "Hi, I am Aarya, I am learning file handling\n"
     ]
    }
   ],
   "source": [
    "f1 = open(\"file_name.txt\",\"r\")\n",
    "data = f1.read()\n",
    "print(data)"
   ]
  },
  {
   "cell_type": "code",
   "execution_count": 7,
   "metadata": {},
   "outputs": [],
   "source": [
    "f2 = open(\"file_write_mode.txt\",\"w\")"
   ]
  },
  {
   "cell_type": "code",
   "execution_count": 8,
   "metadata": {},
   "outputs": [
    {
     "data": {
      "text/plain": [
       "36"
      ]
     },
     "execution_count": 8,
     "metadata": {},
     "output_type": "execute_result"
    }
   ],
   "source": [
    "f1 = open(\"file_name.txt\", \"w\") # Erases all the content\n",
    "f1.write(\"I have overwritten the previous text\")\n",
    "print(f1.read()) # Error: It will not read the file"
   ]
  },
  {
   "cell_type": "code",
   "execution_count": null,
   "metadata": {},
   "outputs": [],
   "source": [
    "f3 = open(\"file.txt\", \"r+\") #Error"
   ]
  },
  {
   "cell_type": "code",
   "execution_count": 13,
   "metadata": {},
   "outputs": [
    {
     "name": "stdout",
     "output_type": "stream",
     "text": [
      "I have overwritten the previous textThis r+ mode\n"
     ]
    },
    {
     "data": {
      "text/plain": [
       "12"
      ]
     },
     "execution_count": 13,
     "metadata": {},
     "output_type": "execute_result"
    }
   ],
   "source": [
    "f4 = open(\"file_name.txt\",\"r+\")\n",
    "print(f4.read())\n",
    "f4.write(\"This r+ mode\")"
   ]
  },
  {
   "cell_type": "code",
   "execution_count": 15,
   "metadata": {},
   "outputs": [
    {
     "name": "stdout",
     "output_type": "stream",
     "text": [
      "0\n",
      "5\n",
      "e overwritten the previous textThis r+ modeThis r+ mode\n",
      "60\n"
     ]
    }
   ],
   "source": [
    "f4 = open(\"file_name.txt\",\"r+\")\n",
    "print(f4.tell())\n",
    "f4.write(\"Hello\")\n",
    "print(f4.tell())\n",
    "print(f4.read())\n",
    "print(f4.tell())"
   ]
  },
  {
   "cell_type": "code",
   "execution_count": 20,
   "metadata": {},
   "outputs": [
    {
     "name": "stdout",
     "output_type": "stream",
     "text": [
      "\n",
      "This is write+ mode\n"
     ]
    }
   ],
   "source": [
    "f5 = open(\"file_write_mode.txt\", \"w+\")\n",
    "f5.write(\"This is write+ mode\")\n",
    "print(f5.read()) # Does not prints anything - Remember the Reason\n",
    "f5.seek(0)\n",
    "print(f5.read()) "
   ]
  },
  {
   "cell_type": "code",
   "execution_count": 25,
   "metadata": {},
   "outputs": [
    {
     "data": {
      "text/plain": [
       "39"
      ]
     },
     "execution_count": 25,
     "metadata": {},
     "output_type": "execute_result"
    }
   ],
   "source": [
    "f5 = open(\"file_write_mode.txt\", \"a\")\n",
    "f5.write(\"This is the function of the append mode\")\n",
    "print(f5.read()) # Error"
   ]
  },
  {
   "cell_type": "code",
   "execution_count": 30,
   "metadata": {},
   "outputs": [
    {
     "name": "stdout",
     "output_type": "stream",
     "text": [
      "\n",
      "This is the function of the append+ mode\n"
     ]
    }
   ],
   "source": [
    "f6 = open(\"file_append+_mode.txt\", \"a+\")\n",
    "f6.write(\"This is the function of the append+ mode\")\n",
    "print(f6.read()) # Does not print anything\n",
    "f6.seek(0)\n",
    "print(f6.read())"
   ]
  },
  {
   "cell_type": "code",
   "execution_count": 31,
   "metadata": {},
   "outputs": [],
   "source": [
    "f6.close()"
   ]
  },
  {
   "cell_type": "code",
   "execution_count": 3,
   "metadata": {},
   "outputs": [],
   "source": [
    "# write lines\n",
    "L = ['hello\\n','hi\\n','how are you\\n','I am fine']\n",
    "\n",
    "f = open('txt.txt', 'w')\n",
    "f.writelines(L)\n",
    "f.close()"
   ]
  },
  {
   "cell_type": "code",
   "execution_count": 4,
   "metadata": {},
   "outputs": [
    {
     "name": "stdout",
     "output_type": "stream",
     "text": [
      "hello\n",
      "hi\n",
      "how are you\n",
      "I am fine"
     ]
    }
   ],
   "source": [
    "# reading entire using readline\n",
    "f = open('txt.txt','r')\n",
    "\n",
    "while True:\n",
    "\n",
    "  data = f.readline()\n",
    "\n",
    "  if data == '':\n",
    "    break\n",
    "  else:\n",
    "    print(data,end='')\n",
    "\n",
    "f.close()"
   ]
  },
  {
   "cell_type": "markdown",
   "metadata": {},
   "source": [
    "# WITH - USED WHEN DEALING WITH BIG FILES AND LOADING THEM IN THE MEMORY [ALTERNATIVE FOR CLOSE]."
   ]
  },
  {
   "cell_type": "code",
   "execution_count": 5,
   "metadata": {},
   "outputs": [],
   "source": [
    "# with\n",
    "with open('txt.txt','w') as f:\n",
    "  f.write('selmon bhai')"
   ]
  },
  {
   "cell_type": "code",
   "execution_count": 6,
   "metadata": {},
   "outputs": [
    {
     "ename": "ValueError",
     "evalue": "I/O operation on closed file.",
     "output_type": "error",
     "traceback": [
      "\u001b[1;31m---------------------------------------------------------------------------\u001b[0m",
      "\u001b[1;31mValueError\u001b[0m                                Traceback (most recent call last)",
      "Cell \u001b[1;32mIn[6], line 1\u001b[0m\n\u001b[1;32m----> 1\u001b[0m \u001b[43mf\u001b[49m\u001b[38;5;241;43m.\u001b[39;49m\u001b[43mwrite\u001b[49m\u001b[43m(\u001b[49m\u001b[38;5;124;43m'\u001b[39;49m\u001b[38;5;124;43mHappy\u001b[39;49m\u001b[38;5;124;43m'\u001b[39;49m\u001b[43m)\u001b[49m\n",
      "\u001b[1;31mValueError\u001b[0m: I/O operation on closed file."
     ]
    }
   ],
   "source": [
    "f.write('Happy')"
   ]
  },
  {
   "cell_type": "code",
   "execution_count": 8,
   "metadata": {},
   "outputs": [
    {
     "name": "stdout",
     "output_type": "stream",
     "text": [
      "selmon bhai\n"
     ]
    }
   ],
   "source": [
    "with open('txt.txt','r') as f:\n",
    "    print(f.read())"
   ]
  },
  {
   "cell_type": "code",
   "execution_count": 11,
   "metadata": {},
   "outputs": [
    {
     "name": "stdout",
     "output_type": "stream",
     "text": [
      "selmon b\n"
     ]
    }
   ],
   "source": [
    "with open('txt.txt', 'r') as f:\n",
    "    print(f.read(8))"
   ]
  },
  {
   "cell_type": "code",
   "execution_count": 15,
   "metadata": {},
   "outputs": [],
   "source": [
    "big_l = ['hello world' for i in range(1000)]\n",
    "\n",
    "with open(\"big_file.txt\", 'w') as f:\n",
    "    f.writelines(big_l)"
   ]
  },
  {
   "cell_type": "code",
   "execution_count": 32,
   "metadata": {},
   "outputs": [
    {
     "name": "stdout",
     "output_type": "stream",
     "text": [
      "dhello wor*****orldhello *****o worldhel*****ello world*****ldhello wo*****worldhello*****lo worldhe*****hello worl*****rldhello w***** worldhell*****llo worldh*****dhello wor*****orldhello *****o worldhel*****ello world*****ldhello wo*****worldhello*****lo worldhe*****hello worl*****rldhello w***** worldhell*****llo worldh*****dhello wor*****orldhello *****o worldhel*****ello world*****ldhello wo*****worldhello*****lo worldhe*****hello worl*****rldhello w***** worldhell*****llo worldh*****dhello wor*****orldhello *****o worldhel*****ello world*****ldhello wo*****worldhello*****lo worldhe*****hello worl*****rldhello w***** worldhell*****llo worldh*****dhello wor*****orldhello *****o worldhel*****ello world*****ldhello wo*****worldhello*****lo worldhe*****hello worl*****rldhello w***** worldhell*****llo worldh*****dhello wor*****orldhello *****o worldhel*****ello world*****ldhello wo*****worldhello*****lo worldhe*****hello worl*****rldhello w***** worldhell*****llo worldh*****dhello wor*****orldhello *****o worldhel*****ello world*****ldhello wo*****worldhello*****lo worldhe*****hello worl*****rldhello w***** worldhell*****llo worldh*****dhello wor*****orldhello *****o worldhel*****ello world*****ldhello wo*****worldhello*****lo worldhe*****hello worl*****rldhello w***** worldhell*****llo worldh*****dhello wor*****orldhello *****o worldhel*****ello world*****ldhello wo*****worldhello*****lo worldhe*****hello worl*****rldhello w***** worldhell*****llo worldh*****dhello wor*****orldhello *****o worldhel*****ello world*****ldhello wo*****worldhello*****lo worldhe*****hello worl*****rldhello w***** worldhell*****llo worldh*****dhello wor*****orldhello *****o worldhel*****ello world*****ldhello wo*****worldhello*****lo worldhe*****hello worl*****rldhello w***** worldhell*****llo worldh*****dhello wor*****orldhello *****o worldhel*****ello world*****ldhello wo*****worldhello*****lo worldhe*****hello worl*****rldhello w***** worldhell*****llo worldh*****dhello wor*****orldhello *****o worldhel*****ello world*****ldhello wo*****worldhello*****lo worldhe*****hello worl*****rldhello w***** worldhell*****llo worldh*****dhello wor*****orldhello *****o worldhel*****ello world*****ldhello wo*****worldhello*****lo worldhe*****hello worl*****rldhello w***** worldhell*****llo worldh*****dhello wor*****orldhello *****o worldhel*****ello world*****ldhello wo*****worldhello*****lo worldhe*****hello worl*****rldhello w***** worldhell*****llo worldh*****dhello wor*****orldhello *****o worldhel*****ello world*****ldhello wo*****worldhello*****lo worldhe*****hello worl*****rldhello w***** worldhell*****llo worldh*****dhello wor*****orldhello *****o worldhel*****ello world*****ldhello wo*****worldhello*****lo worldhe*****hello worl*****rldhello w***** worldhell*****llo worldh*****dhello wor*****orldhello *****o worldhel*****ello world*****ldhello wo*****worldhello*****lo worldhe*****hello worl*****rldhello w***** worldhell*****llo worldh*****dhello wor*****orldhello *****o worldhel*****ello world*****ldhello wo*****worldhello*****lo worldhe*****hello worl*****rldhello w***** worldhell*****llo worldh*****dhello wor*****orldhello *****o worldhel*****ello world*****ldhello wo*****worldhello*****lo worldhe*****hello worl*****rldhello w***** worldhell*****llo worldh*****dhello wor*****orldhello *****o worldhel*****ello world*****ldhello wo*****worldhello*****lo worldhe*****hello worl*****rldhello w***** worldhell*****llo worldh*****dhello wor*****orldhello *****o worldhel*****ello world*****ldhello wo*****worldhello*****lo worldhe*****hello worl*****rldhello w***** worldhell*****llo worldh*****dhello wor*****orldhello *****o worldhel*****ello world*****ldhello wo*****worldhello*****lo worldhe*****hello worl*****rldhello w***** worldhell*****llo worldh*****dhello wor*****orldhello *****o worldhel*****ello world*****ldhello wo*****worldhello*****lo worldhe*****hello worl*****rldhello w***** worldhell*****llo worldh*****dhello wor*****orldhello *****o worldhel*****ello world*****ldhello wo*****worldhello*****lo worldhe*****hello worl*****rldhello w***** worldhell*****llo worldh*****dhello wor*****orldhello *****o worldhel*****ello world*****ldhello wo*****worldhello*****lo worldhe*****hello worl*****rldhello w***** worldhell*****llo worldh*****dhello wor*****orldhello *****o worldhel*****ello world*****ldhello wo*****worldhello*****lo worldhe*****hello worl*****rldhello w***** worldhell*****llo worldh*****dhello wor*****orldhello *****o worldhel*****ello world*****ldhello wo*****worldhello*****lo worldhe*****hello worl*****rldhello w***** worldhell*****llo worldh*****dhello wor*****orldhello *****o worldhel*****ello world*****ldhello wo*****worldhello*****lo worldhe*****hello worl*****rldhello w***** worldhell*****llo worldh*****dhello wor*****orldhello *****o worldhel*****ello world*****ldhello wo*****worldhello*****lo worldhe*****hello worl*****rldhello w***** worldhell*****llo worldh*****dhello wor*****orldhello *****o worldhel*****ello world*****ldhello wo*****worldhello*****lo worldhe*****hello worl*****rldhello w***** worldhell*****llo worldh*****dhello wor*****orldhello *****o worldhel*****ello world*****ldhello wo*****worldhello*****lo worldhe*****hello worl*****rldhello w***** worldhell*****llo worldh*****dhello wor*****orldhello *****o worldhel*****ello world*****ldhello wo*****worldhello*****lo worldhe*****hello worl*****rldhello w***** worldhell*****llo worldh*****dhello wor*****orldhello *****o worldhel*****ello world*****"
     ]
    }
   ],
   "source": [
    "with open('big_file.txt', 'r') as f:\n",
    "    chunk_size = 10\n",
    "\n",
    "    while len(f.read(chunk_size))>0:\n",
    "        print(f.read(chunk_size), end='*****')\n",
    "        f.read(chunk_size)     \n",
    "        "
   ]
  },
  {
   "cell_type": "markdown",
   "metadata": {},
   "source": [
    "# TELL - NEXT INDEX OF CHARACTER KONSA PRINT HOGA"
   ]
  },
  {
   "cell_type": "code",
   "execution_count": 35,
   "metadata": {},
   "outputs": [
    {
     "name": "stdout",
     "output_type": "stream",
     "text": [
      "he\n",
      "2\n"
     ]
    }
   ],
   "source": [
    "with open('big_file.txt', 'r') as f:\n",
    "    print(f.read(2))\n",
    "    print(f.tell())"
   ]
  },
  {
   "cell_type": "markdown",
   "metadata": {},
   "source": [
    "# SEEK - POINTER WAHA BHEJ DETA HAI"
   ]
  },
  {
   "cell_type": "code",
   "execution_count": 36,
   "metadata": {},
   "outputs": [
    {
     "name": "stdout",
     "output_type": "stream",
     "text": [
      "he\n",
      "he\n"
     ]
    }
   ],
   "source": [
    "with open('big_file.txt', 'r') as f:\n",
    "    print(f.read(2))\n",
    "    f.seek(0)\n",
    "    print(f.read(2))"
   ]
  },
  {
   "cell_type": "code",
   "execution_count": 37,
   "metadata": {},
   "outputs": [
    {
     "name": "stdout",
     "output_type": "stream",
     "text": [
      "he\n",
      "ld\n"
     ]
    }
   ],
   "source": [
    "with open('big_file.txt', 'r') as f:\n",
    "    print(f.read(2))\n",
    "    f.seek(20)\n",
    "    print(f.read(2))"
   ]
  },
  {
   "cell_type": "code",
   "execution_count": 48,
   "metadata": {},
   "outputs": [
    {
     "name": "stdout",
     "output_type": "stream",
     "text": [
      "\n"
     ]
    }
   ],
   "source": [
    "with open('big_file.txt', 'r') as f:\n",
    "    f.seek(0,2)\n",
    "    print(f.read()) # Because we are at the end of the file nothing printed"
   ]
  },
  {
   "cell_type": "code",
   "execution_count": 51,
   "metadata": {},
   "outputs": [],
   "source": [
    "with open('txt.txt', 'w') as f:\n",
    "    f.write('Hello')\n",
    "    f.seek(0)\n",
    "    f.write('X') #Xello"
   ]
  },
  {
   "cell_type": "markdown",
   "metadata": {},
   "source": [
    "# TXT FILES PROBLEMS -\n",
    "unicode file mein binary files open nahi hota isliye hum rb, wb use karte hai        \n",
    "unicode file mein list, tuples, integers, floats kaam nahi karte sirf STRINGS karte hai isliye hum  <font color = 'red'>Serialization & Deserialization</font>   "
   ]
  },
  {
   "cell_type": "code",
   "execution_count": 54,
   "metadata": {},
   "outputs": [
    {
     "name": "stderr",
     "output_type": "stream",
     "text": [
      "<>:1: SyntaxWarning: invalid escape sequence '\\S'\n",
      "<>:1: SyntaxWarning: invalid escape sequence '\\S'\n",
      "C:\\Users\\91988\\AppData\\Local\\Temp\\ipykernel_12976\\2539679591.py:1: SyntaxWarning: invalid escape sequence '\\S'\n",
      "  with open('D:\\Screenshots\\Screenshot (92).png', 'rb') as f:\n"
     ]
    }
   ],
   "source": [
    "with open('D:\\Screenshots\\Screenshot (92).png', 'rb') as f:\n",
    "    with open('Screenshot_copy_binary.png', 'wb') as wf:\n",
    "        wf.write(f.read())"
   ]
  },
  {
   "cell_type": "code",
   "execution_count": 55,
   "metadata": {},
   "outputs": [],
   "source": [
    "d = {\n",
    "    'name':'nitish',\n",
    "     'age':33,\n",
    "     'gender':'male'\n",
    "}\n",
    "\n",
    "with open('sample.txt','w') as f:\n",
    "  f.write(str(d))"
   ]
  },
  {
   "cell_type": "code",
   "execution_count": 56,
   "metadata": {},
   "outputs": [
    {
     "ename": "ValueError",
     "evalue": "dictionary update sequence element #0 has length 1; 2 is required",
     "output_type": "error",
     "traceback": [
      "\u001b[1;31m---------------------------------------------------------------------------\u001b[0m",
      "\u001b[1;31mValueError\u001b[0m                                Traceback (most recent call last)",
      "Cell \u001b[1;32mIn[56], line 2\u001b[0m\n\u001b[0;32m      1\u001b[0m \u001b[38;5;28;01mwith\u001b[39;00m \u001b[38;5;28mopen\u001b[39m(\u001b[38;5;124m'\u001b[39m\u001b[38;5;124msample.txt\u001b[39m\u001b[38;5;124m'\u001b[39m,\u001b[38;5;124m'\u001b[39m\u001b[38;5;124mr\u001b[39m\u001b[38;5;124m'\u001b[39m) \u001b[38;5;28;01mas\u001b[39;00m f:\n\u001b[1;32m----> 2\u001b[0m   \u001b[38;5;28mprint\u001b[39m(\u001b[38;5;28;43mdict\u001b[39;49m\u001b[43m(\u001b[49m\u001b[43mf\u001b[49m\u001b[38;5;241;43m.\u001b[39;49m\u001b[43mread\u001b[49m\u001b[43m(\u001b[49m\u001b[43m)\u001b[49m\u001b[43m)\u001b[49m)\n",
      "\u001b[1;31mValueError\u001b[0m: dictionary update sequence element #0 has length 1; 2 is required"
     ]
    }
   ],
   "source": [
    "with open('sample.txt','r') as f:\n",
    "  print(dict(f.read()))"
   ]
  },
  {
   "cell_type": "markdown",
   "metadata": {},
   "source": [
    "# <font color = 'red'>Serialization & Deserialization</font>   "
   ]
  },
  {
   "cell_type": "code",
   "execution_count": 57,
   "metadata": {},
   "outputs": [],
   "source": [
    "# serialization using json module\n",
    "# list\n",
    "\n",
    "import json\n",
    "\n",
    "L = [1,2,3,4]\n",
    "\n",
    "with open('demo.json','w') as f:\n",
    "  json.dump(L,f)"
   ]
  },
  {
   "cell_type": "code",
   "execution_count": 58,
   "metadata": {},
   "outputs": [],
   "source": [
    "# dict\n",
    "d = {\n",
    "    'name':'nitish',\n",
    "     'age':33,\n",
    "     'gender':'male'\n",
    "}\n",
    "\n",
    "with open('demo.json','w') as f:\n",
    "  json.dump(d,f,indent=4)"
   ]
  },
  {
   "cell_type": "code",
   "execution_count": 59,
   "metadata": {},
   "outputs": [
    {
     "name": "stdout",
     "output_type": "stream",
     "text": [
      "{'name': 'nitish', 'age': 33, 'gender': 'male'}\n",
      "<class 'dict'>\n"
     ]
    }
   ],
   "source": [
    "# deserialization\n",
    "import json\n",
    "\n",
    "with open('demo.json','r') as f:\n",
    "  d = json.load(f)\n",
    "  print(d)\n",
    "  print(type(d))"
   ]
  },
  {
   "cell_type": "code",
   "execution_count": 62,
   "metadata": {},
   "outputs": [],
   "source": [
    "# serialize and deserialize tuple\n",
    "import json\n",
    "\n",
    "t = (1,2,3,4,5)\n",
    "\n",
    "with open('demo.json','w') as f:\n",
    "  json.dump(t,f) # dumped as a list"
   ]
  },
  {
   "cell_type": "code",
   "execution_count": 61,
   "metadata": {},
   "outputs": [],
   "source": [
    "# serialize and deserialize a nested dict\n",
    "\n",
    "d = {\n",
    "    'student':'nitish',\n",
    "     'marks':[23,14,34,45,56]\n",
    "}\n",
    "\n",
    "with open('demo.json','w') as f:\n",
    "  json.dump(d,f)"
   ]
  },
  {
   "cell_type": "markdown",
   "metadata": {},
   "source": [
    "### <font color='red'> Serializing and Deserializing custom objects</font>"
   ]
  },
  {
   "cell_type": "code",
   "execution_count": 65,
   "metadata": {},
   "outputs": [],
   "source": [
    "class Person:\n",
    "\n",
    "  def __init__(self,fname,lname,age,gender):\n",
    "    self.fname = fname\n",
    "    self.lname = lname\n",
    "    self.age = age\n",
    "    self.gender = gender\n",
    "\n",
    "# format to printed in\n",
    "# -> Nitish Singh age -> 33 gender -> male"
   ]
  },
  {
   "cell_type": "code",
   "execution_count": 67,
   "metadata": {},
   "outputs": [],
   "source": [
    "person = Person('Nitish','Singh',33,'male')"
   ]
  },
  {
   "cell_type": "code",
   "execution_count": 68,
   "metadata": {},
   "outputs": [],
   "source": [
    "# As a string\n",
    "import json\n",
    "\n",
    "def show_object(person):\n",
    "  if isinstance(person,Person):\n",
    "    return \"{} {} age -> {} gender -> {}\".format(person.fname,person.lname,person.age,person.gender)\n",
    "\n",
    "with open('demo.json','w') as f:\n",
    "  json.dump(person,f,default=show_object)"
   ]
  },
  {
   "cell_type": "code",
   "execution_count": 70,
   "metadata": {},
   "outputs": [],
   "source": [
    "# As a dict\n",
    "import json\n",
    "\n",
    "def show_object(person):\n",
    "  if isinstance(person,Person):\n",
    "    return {'name':person.fname + ' ' + person.lname,'age':person.age,'gender':person.gender}\n",
    "\n",
    "with open('demo.json','w') as f:\n",
    "  json.dump(person,f,default=show_object,indent=4)"
   ]
  },
  {
   "cell_type": "code",
   "execution_count": 71,
   "metadata": {},
   "outputs": [
    {
     "name": "stdout",
     "output_type": "stream",
     "text": [
      "{'name': 'Nitish Singh', 'age': 33, 'gender': 'male'}\n",
      "<class 'dict'>\n"
     ]
    }
   ],
   "source": [
    "# deserializing\n",
    "import json\n",
    "\n",
    "with open('demo.json','r') as f:\n",
    "  d = json.load(f)\n",
    "  print(d)\n",
    "  print(type(d))"
   ]
  },
  {
   "cell_type": "markdown",
   "metadata": {},
   "source": [
    "# <font color = 'orange' > PICKLING </font>"
   ]
  },
  {
   "cell_type": "markdown",
   "metadata": {},
   "source": [
    "`Pickling` is the process whereby a Python object hierarchy is converted into a byte stream, and `unpickling` is the inverse operation, whereby a byte stream (from a binary file or bytes-like object) is converted back into an object hierarchy."
   ]
  },
  {
   "cell_type": "code",
   "execution_count": 72,
   "metadata": {},
   "outputs": [],
   "source": [
    "class Person:\n",
    "\n",
    "  def __init__(self,name,age):\n",
    "    self.name = name\n",
    "    self.age = age\n",
    "\n",
    "  def display_info(self):\n",
    "    print('Hi my name is',self.name,'and I am ',self.age,'years old')"
   ]
  },
  {
   "cell_type": "code",
   "execution_count": 73,
   "metadata": {},
   "outputs": [],
   "source": [
    "p = Person('nitish',33)"
   ]
  },
  {
   "cell_type": "code",
   "execution_count": 74,
   "metadata": {},
   "outputs": [],
   "source": [
    "# pickle dump\n",
    "import pickle\n",
    "with open('person.pkl','wb') as f:\n",
    "  pickle.dump(p,f)"
   ]
  },
  {
   "cell_type": "code",
   "execution_count": 75,
   "metadata": {},
   "outputs": [
    {
     "name": "stdout",
     "output_type": "stream",
     "text": [
      "Hi my name is nitish and I am  33 years old\n"
     ]
    }
   ],
   "source": [
    "# pickle load\n",
    "import pickle\n",
    "with open('person.pkl','rb') as f:\n",
    "  p = pickle.load(f)\n",
    "\n",
    "p.display_info()"
   ]
  },
  {
   "cell_type": "markdown",
   "metadata": {},
   "source": [
    "### <font color = 'red'>Pickle Vs Json </font>\n",
    "\n",
    "- Pickle lets the user to store data in binary format. JSON lets the user store data in a human-readable text format."
   ]
  },
  {
   "cell_type": "markdown",
   "metadata": {},
   "source": [
    "# TASKS "
   ]
  },
  {
   "cell_type": "markdown",
   "metadata": {},
   "source": [
    "#### `Q-1:` Write a function `get_final_line(filename)`, which takes filename as input and return final line of the file."
   ]
  },
  {
   "cell_type": "code",
   "execution_count": 85,
   "metadata": {},
   "outputs": [
    {
     "name": "stdout",
     "output_type": "stream",
     "text": [
      "Thank you for reading this bakwas\n"
     ]
    }
   ],
   "source": [
    "def get_final_line():\n",
    "    x = input(\"Enter a filename: \")\n",
    "    with open(x, 'r') as f:\n",
    "        for line in (f.readlines() [-1:]):\n",
    "            print(line, end ='')\n",
    "\n",
    "get_final_line()"
   ]
  },
  {
   "cell_type": "markdown",
   "metadata": {},
   "source": [
    "#### `Q-2:` Read through a text file, line by line. Use a dict to keep track of how many times each vowel (a, e, i, o, and u) appears in the file. Print the resulting tabulation -- dictionary. "
   ]
  },
  {
   "cell_type": "code",
   "execution_count": 86,
   "metadata": {},
   "outputs": [
    {
     "name": "stdout",
     "output_type": "stream",
     "text": [
      "Vowel counts in the file: {'a': 11, 'e': 7, 'i': 9, 'o': 6, 'u': 1}\n"
     ]
    }
   ],
   "source": [
    "count = 0\n",
    "vowels_count = {'a': 0, 'e': 0, 'i': 0, 'o': 0, 'u': 0}\n",
    "with open('txt.txt', 'r') as file:\n",
    "        for line in file:\n",
    "            for char in line:\n",
    "                if char.lower() in vowels_count:\n",
    "                    vowels_count[char.lower()] += 1\n",
    "print(\"Vowel counts in the file:\", vowels_count)"
   ]
  },
  {
   "cell_type": "markdown",
   "metadata": {},
   "source": [
    "#### `Q-3:` Create a text file (using an editor, not necessarily Python) containing two tab separated columns, with each column containing a number. Then use Python to read through the file you’ve created. For each line, multiply each first number by the second and include it in the file in third column. In last add a line Total, by summing the value of third column"
   ]
  },
  {
   "cell_type": "code",
   "execution_count": 109,
   "metadata": {},
   "outputs": [],
   "source": [
    "def process_file(a):\n",
    "    # Initialize a list to store the lines\n",
    "    lines = []\n",
    "    total = 0\n",
    "\n",
    "    # Read the file and process each line\n",
    "    with open(a, 'r') as file:\n",
    "        for line in file:\n",
    "            # Split the line by tab\n",
    "            numbers = line.strip().split()\n",
    "            if len(numbers) >= 2:\n",
    "                try:\n",
    "                    # Convert the first two columns to integers\n",
    "                    num1 = int(numbers[0])\n",
    "                    num2 = int(numbers[1])\n",
    "                    \n",
    "                    # Multiply the first number by the second\n",
    "                    product = num1 * num2\n",
    "                    \n",
    "                    # Add the product to the line\n",
    "                    lines.append(f\"{num1}\\t{num2}\\t{product}\")\n",
    "                    \n",
    "                    # Accumulate the total\n",
    "                    total += product\n",
    "                except ValueError:\n",
    "                    # Handle the case where conversion to integer fails\n",
    "                    print(f\"Skipping line due to non-integer values: {line.strip()}\")\n",
    "            else:\n",
    "                print(f\"Skipping line due to insufficient columns: {line.strip()}\")\n",
    "    # Add the total line\n",
    "    lines.append(f\"Total\\t\\t{total}\")\n",
    "    \n",
    "    # Write the results back to the file\n",
    "    with open(a, 'w') as file:\n",
    "        for line in lines:\n",
    "            file.write(line + '\\n')\n",
    "\n",
    "a = 'txt.txt'\n",
    "process_file(a)"
   ]
  },
  {
   "cell_type": "code",
   "execution_count": null,
   "metadata": {},
   "outputs": [],
   "source": [
    "for lines in f:\n",
    "    f.seek()"
   ]
  }
 ],
 "metadata": {
  "kernelspec": {
   "display_name": "Python 3",
   "language": "python",
   "name": "python3"
  },
  "language_info": {
   "codemirror_mode": {
    "name": "ipython",
    "version": 3
   },
   "file_extension": ".py",
   "mimetype": "text/x-python",
   "name": "python",
   "nbconvert_exporter": "python",
   "pygments_lexer": "ipython3",
   "version": "3.12.4"
  }
 },
 "nbformat": 4,
 "nbformat_minor": 2
}
