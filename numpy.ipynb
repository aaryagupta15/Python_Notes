{
 "cells": [
  {
   "cell_type": "markdown",
   "metadata": {},
   "source": [
    "# <font color='orange'>Numpy Arrays</font>"
   ]
  },
  {
   "cell_type": "code",
   "execution_count": 1,
   "metadata": {},
   "outputs": [],
   "source": [
    "import numpy as np"
   ]
  },
  {
   "cell_type": "code",
   "execution_count": 2,
   "metadata": {},
   "outputs": [
    {
     "name": "stdout",
     "output_type": "stream",
     "text": [
      "[1 2 3 4]\n",
      "[   1   16   81  256  625 1296 2401 4096]\n",
      "1.87 μs ± 119 ns per loop (mean ± std. dev. of 7 runs, 1,000,000 loops each)\n"
     ]
    }
   ],
   "source": [
    "x =  np.array([1,2,3,4])\n",
    "print(x)\n",
    "print(np.arange(1,9)**4)\n",
    "%timeit np.arange(1,9)**4 #Numpy arrays are faster than lists"
   ]
  },
  {
   "cell_type": "code",
   "execution_count": 4,
   "metadata": {},
   "outputs": [
    {
     "name": "stdout",
     "output_type": "stream",
     "text": [
      "[1, 2, 3, 4]\n",
      "[1 2 3 4]\n",
      "1\n"
     ]
    }
   ],
   "source": [
    "l = []\n",
    "for i in range(0,4):\n",
    "    ans = int(input(\"Enter the ans: \"))\n",
    "    l.append(ans)\n",
    "\n",
    "print(l)\n",
    "p = np.array(l)\n",
    "print(p)\n",
    "print(p.ndim)"
   ]
  },
  {
   "cell_type": "code",
   "execution_count": 5,
   "metadata": {},
   "outputs": [
    {
     "name": "stdout",
     "output_type": "stream",
     "text": [
      "[[1 2 3 4]\n",
      " [5 6 7 8]]\n",
      "2\n"
     ]
    }
   ],
   "source": [
    "ar2 = np.array([[1,2,3,4],[5,6,7,8]]) # Number of data should be same in both \n",
    "print(ar2)\n",
    "print(ar2.ndim)"
   ]
  },
  {
   "cell_type": "code",
   "execution_count": 6,
   "metadata": {},
   "outputs": [
    {
     "name": "stdout",
     "output_type": "stream",
     "text": [
      "[[[1 2 3 4]\n",
      "  [1 2 3 4]\n",
      "  [1 2 3 4]]]\n",
      "3\n"
     ]
    }
   ],
   "source": [
    "ar3 = np.array([[[1,2,3,4],[1,2,3,4],[1,2,3,4]]])\n",
    "print(ar3)\n",
    "print(ar3.ndim)"
   ]
  },
  {
   "cell_type": "code",
   "execution_count": 7,
   "metadata": {},
   "outputs": [
    {
     "name": "stdout",
     "output_type": "stream",
     "text": [
      "[[[[[[[[[[1 2 3 4]]]]]]]]]]\n",
      "10\n"
     ]
    }
   ],
   "source": [
    "arn = np.array([1,2,3,4],ndmin = 10)\n",
    "print(arn)\n",
    "print(arn.ndim)"
   ]
  },
  {
   "cell_type": "code",
   "execution_count": 2,
   "metadata": {},
   "outputs": [
    {
     "name": "stdout",
     "output_type": "stream",
     "text": [
      "[[0 1 2 3 4]\n",
      " [0 1 2 3 4]\n",
      " [0 1 2 3 4]\n",
      " [0 1 2 3 4]\n",
      " [0 1 2 3 4]]\n"
     ]
    }
   ],
   "source": [
    "array = np.tile(np.arange(5), (5, 1)) #np.tile(A, reps)\n",
    "print(array)"
   ]
  },
  {
   "cell_type": "markdown",
   "metadata": {},
   "source": [
    "# <font color='orange'> Types of Numpy Arrays</font>"
   ]
  },
  {
   "cell_type": "code",
   "execution_count": 8,
   "metadata": {},
   "outputs": [
    {
     "name": "stdout",
     "output_type": "stream",
     "text": [
      "[0. 0. 0. 0.]\n",
      "\n",
      "\n",
      "[[0. 0. 0. 0.]\n",
      " [0. 0. 0. 0.]\n",
      " [0. 0. 0. 0.]]\n"
     ]
    }
   ],
   "source": [
    "arr_zero = np.zeros((4))\n",
    "print(arr_zero)\n",
    "print(\"\\n\")\n",
    "arr_zero1 = np.zeros((3,4))\n",
    "print(arr_zero1)"
   ]
  },
  {
   "cell_type": "code",
   "execution_count": 9,
   "metadata": {},
   "outputs": [
    {
     "name": "stdout",
     "output_type": "stream",
     "text": [
      "[1. 1. 1. 1.]\n",
      "\n",
      "\n",
      "[[1. 1. 1. 1.]\n",
      " [1. 1. 1. 1.]\n",
      " [1. 1. 1. 1.]]\n"
     ]
    }
   ],
   "source": [
    "arr_one = np.ones((4))\n",
    "print(arr_one)\n",
    "print(\"\\n\")\n",
    "arr_one1 = np.ones((3,4))\n",
    "print(arr_one1)"
   ]
  },
  {
   "cell_type": "code",
   "execution_count": 10,
   "metadata": {},
   "outputs": [
    {
     "name": "stdout",
     "output_type": "stream",
     "text": [
      "[1. 1. 1. 1.]\n"
     ]
    }
   ],
   "source": [
    "arr_emp = np.empty(4)\n",
    "print(arr_emp) #In empty array, range of previous arrays comes in."
   ]
  },
  {
   "cell_type": "code",
   "execution_count": 11,
   "metadata": {},
   "outputs": [
    {
     "name": "stdout",
     "output_type": "stream",
     "text": [
      "[0 1 2 3]\n"
     ]
    }
   ],
   "source": [
    "arr_range = np.arange(4)\n",
    "print(arr_range)"
   ]
  },
  {
   "cell_type": "code",
   "execution_count": 12,
   "metadata": {},
   "outputs": [
    {
     "name": "stdout",
     "output_type": "stream",
     "text": [
      "[[1. 0. 0. 0.]\n",
      " [0. 1. 0. 0.]\n",
      " [0. 0. 1. 0.]\n",
      " [0. 0. 0. 1.]]\n",
      "\n",
      "\n",
      "[[1. 0. 0. 0. 0.]\n",
      " [0. 1. 0. 0. 0.]\n",
      " [0. 0. 1. 0. 0.]]\n"
     ]
    }
   ],
   "source": [
    "arr_dia = np.eye(4)\n",
    "print(arr_dia)\n",
    "print(\"\\n\")\n",
    "arr_dia1 = np.eye(3,5)\n",
    "print(arr_dia1)"
   ]
  },
  {
   "cell_type": "code",
   "execution_count": 13,
   "metadata": {},
   "outputs": [
    {
     "name": "stdout",
     "output_type": "stream",
     "text": [
      "[  0.  25.  50.  75. 100.]\n"
     ]
    }
   ],
   "source": [
    "arr_line = np.linspace(0,100,num=5)\n",
    "print(arr_line)"
   ]
  },
  {
   "cell_type": "markdown",
   "metadata": {},
   "source": [
    "## <font color='orange'> Random</font>\n",
    "\n",
    "Numpy also has lots of ways to create random number arrays:\n",
    "\n",
    "**Rand:** Create an array of the given shape and populate it with random samples from a uniform distribution over [0, 1).\n",
    "\n",
    "**Randn:** The numpy.random.randn() function creates an array of specified shape and fills it with random values as per standard normal distribution with positive and negative values close to 0.  \n",
    "\n",
    "**Ranf** Random float values inclusive of 0 and exclusive of 1 [0,1).\n",
    "\n",
    "**Randint:** Return random integers from low (inclusive) to high (exclusive).  \n",
    "\n",
    "**normal():** Draw random samples from a normal (Gaussian) distribution.\n"
   ]
  },
  {
   "cell_type": "code",
   "execution_count": 17,
   "metadata": {},
   "outputs": [
    {
     "name": "stdout",
     "output_type": "stream",
     "text": [
      "[0.80638204 0.11316257 0.560944   0.41974636]\n",
      "\n",
      "\n",
      "[[0.69003781 0.62591736 0.73238007]\n",
      " [0.35081282 0.41118861 0.35005282]\n",
      " [0.97544197 0.56312648 0.03065158]]\n"
     ]
    }
   ],
   "source": [
    "var = np.random.rand(4)\n",
    "print(var)\n",
    "print(\"\\n\")\n",
    "var2 = np.random.rand(3,3)\n",
    "print(var2)"
   ]
  },
  {
   "cell_type": "code",
   "execution_count": 19,
   "metadata": {},
   "outputs": [
    {
     "name": "stdout",
     "output_type": "stream",
     "text": [
      "[-0.0886702  -1.23064774 -1.90673551 -1.69766802]\n",
      "\n",
      "\n",
      "[[ 0.40638343 -1.78853178 -0.42189194]\n",
      " [ 0.27882835  0.89165844  0.61026276]\n",
      " [-0.14829498  0.1273507  -0.30439012]]\n"
     ]
    }
   ],
   "source": [
    "var3 = np.random.randn(4) #Close to zero with poitive + negative\n",
    "print(var3)\n",
    "print(\"\\n\")\n",
    "var4 = np.random.randn(3,3)\n",
    "print(var4)"
   ]
  },
  {
   "cell_type": "code",
   "execution_count": 21,
   "metadata": {},
   "outputs": [
    {
     "name": "stdout",
     "output_type": "stream",
     "text": [
      "[0.25999595 0.90901889 0.0929478  0.80135204]\n",
      "\n",
      "\n"
     ]
    },
    {
     "ename": "TypeError",
     "evalue": "random_sample() takes at most 1 positional argument (2 given)",
     "output_type": "error",
     "traceback": [
      "\u001b[1;31m---------------------------------------------------------------------------\u001b[0m",
      "\u001b[1;31mTypeError\u001b[0m                                 Traceback (most recent call last)",
      "Cell \u001b[1;32mIn[21], line 4\u001b[0m\n\u001b[0;32m      2\u001b[0m \u001b[38;5;28mprint\u001b[39m(var5)\n\u001b[0;32m      3\u001b[0m \u001b[38;5;28mprint\u001b[39m(\u001b[38;5;124m\"\u001b[39m\u001b[38;5;130;01m\\n\u001b[39;00m\u001b[38;5;124m\"\u001b[39m)\n\u001b[1;32m----> 4\u001b[0m var6 \u001b[38;5;241m=\u001b[39m \u001b[43mnp\u001b[49m\u001b[38;5;241;43m.\u001b[39;49m\u001b[43mrandom\u001b[49m\u001b[38;5;241;43m.\u001b[39;49m\u001b[43mranf\u001b[49m\u001b[43m(\u001b[49m\u001b[38;5;241;43m3\u001b[39;49m\u001b[43m,\u001b[49m\u001b[38;5;241;43m3\u001b[39;49m\u001b[43m)\u001b[49m\n\u001b[0;32m      5\u001b[0m \u001b[38;5;28mprint\u001b[39m(var6)\n",
      "File \u001b[1;32mnumpy\\\\random\\\\mtrand.pyx:4912\u001b[0m, in \u001b[0;36mnumpy.random.mtrand.ranf\u001b[1;34m()\u001b[0m\n",
      "File \u001b[1;32mnumpy\\\\random\\\\mtrand.pyx:389\u001b[0m, in \u001b[0;36mnumpy.random.mtrand.RandomState.random_sample\u001b[1;34m()\u001b[0m\n",
      "\u001b[1;31mTypeError\u001b[0m: random_sample() takes at most 1 positional argument (2 given)"
     ]
    }
   ],
   "source": [
    "var5 = np.random.ranf(4) \n",
    "print(var5)\n",
    "print(\"\\n\")\n",
    "var6 = np.random.ranf(3,3) # Only 1D array\n",
    "print(var6)"
   ]
  },
  {
   "cell_type": "code",
   "execution_count": 22,
   "metadata": {},
   "outputs": [
    {
     "name": "stdout",
     "output_type": "stream",
     "text": [
      "[18 17 10 18]\n",
      "\n",
      "\n",
      "[0 1 2]\n"
     ]
    }
   ],
   "source": [
    "var7 = np.random.randint(5,20,4) #var7 = np.random.randint(min,max,total_value)\n",
    "print(var7)\n",
    "print(\"\\n\")\n",
    "var8 = np.random.randint(0,3,3)\n",
    "print(var8)"
   ]
  },
  {
   "cell_type": "code",
   "execution_count": 31,
   "metadata": {},
   "outputs": [
    {
     "data": {
      "text/plain": [
       "array([[ 2.04490219,  6.1490287 , 12.94511852, -4.70419417],\n",
       "       [-1.64695431,  3.01414257,  3.9554258 ,  5.20400875],\n",
       "       [ 6.84151667,  0.88976775, -1.18047097,  7.38317102],\n",
       "       [ 8.61254482,  3.83006197,  5.52645093,  0.88519134],\n",
       "       [ 5.04633144, -3.06077632, 11.63216111,  6.57726592]])"
      ]
     },
     "execution_count": 31,
     "metadata": {},
     "output_type": "execute_result"
    }
   ],
   "source": [
    "np.random.normal(loc=5, scale=4, size=(5, 4))   # loc - mean, scale-variance"
   ]
  },
  {
   "cell_type": "markdown",
   "metadata": {},
   "source": [
    "# <font color='orange'> DataTypes</font>"
   ]
  },
  {
   "cell_type": "code",
   "execution_count": 25,
   "metadata": {},
   "outputs": [
    {
     "name": "stdout",
     "output_type": "stream",
     "text": [
      "Data Type is:  int64\n",
      "Data Type is:  float64\n",
      "Data Type is:  int64\n",
      "Data Type is:  <U1\n",
      "Data Type is:  <U21\n"
     ]
    }
   ],
   "source": [
    "dt1 = np.array([1,2,3,4,5])\n",
    "print(\"Data Type is: \", dt1.dtype)\n",
    "dt2 = np.array([1,2,3.0,4.0,5])\n",
    "print(\"Data Type is: \", dt2.dtype)\n",
    "dt3 = np.array([-1,2,3,-4,5])\n",
    "print(\"Data Type is: \", dt3.dtype)\n",
    "dt4 = np.array([\"A\",\"b\",\"C\"])\n",
    "print(\"Data Type is: \", dt4.dtype)\n",
    "dt5 = np.array([\"A\",10,\"C\"])\n",
    "print(\"Data Type is: \", dt5.dtype)"
   ]
  },
  {
   "cell_type": "code",
   "execution_count": 29,
   "metadata": {},
   "outputs": [
    {
     "name": "stdout",
     "output_type": "stream",
     "text": [
      "Data Type is:  int8\n",
      "Data Type is:  float64\n",
      "Data Type is:  int64\n"
     ]
    }
   ],
   "source": [
    "dt6 = np.array([1,2,3,4,5], dtype = np.int8)\n",
    "dt7 = dt6.astype(float)\n",
    "dt8 = np.int_(dt7)\n",
    "print(\"Data Type is: \", dt6.dtype)\n",
    "print(\"Data Type is: \", dt7.dtype)\n",
    "print(\"Data Type is: \", dt8.dtype)"
   ]
  },
  {
   "cell_type": "markdown",
   "metadata": {},
   "source": [
    "# <font color='orange'> Arithmetic Operations</font>"
   ]
  },
  {
   "cell_type": "code",
   "execution_count": 30,
   "metadata": {},
   "outputs": [
    {
     "name": "stdout",
     "output_type": "stream",
     "text": [
      "Array1: \n",
      "[16 16 16  3 10  4 19 17  1  2]\n",
      "\n",
      "Array2: \n",
      "[37 23 35 25 27 26 28 34 32 36]\n"
     ]
    }
   ],
   "source": [
    "arr1 = np.random.randint(low=0, high=20, size=10)\n",
    "arr2 = np.random.randint(low=20, high=40, size=10)\n",
    "print(\"Array1: \")\n",
    "print(arr1)\n",
    "print()\n",
    "print(\"Array2: \")\n",
    "print(arr2)"
   ]
  },
  {
   "cell_type": "code",
   "execution_count": 34,
   "metadata": {},
   "outputs": [
    {
     "name": "stdout",
     "output_type": "stream",
     "text": [
      "[53 39 51 28 37 30 47 51 33 38]\n",
      "[53 39 51 28 37 30 47 51 33 38]\n"
     ]
    }
   ],
   "source": [
    "arr3 = arr1 + arr2\n",
    "print(arr3)\n",
    "arr4 = np.add(arr1,arr2)\n",
    "print(arr4)"
   ]
  },
  {
   "cell_type": "code",
   "execution_count": 35,
   "metadata": {},
   "outputs": [
    {
     "name": "stdout",
     "output_type": "stream",
     "text": [
      "[-21  -7 -19 -22 -17 -22  -9 -17 -31 -34]\n",
      "[-21  -7 -19 -22 -17 -22  -9 -17 -31 -34]\n"
     ]
    }
   ],
   "source": [
    "arr3 = arr1 - arr2\n",
    "print(arr3)\n",
    "arr4 = np.subtract(arr1,arr2)\n",
    "print(arr4)"
   ]
  },
  {
   "cell_type": "code",
   "execution_count": 36,
   "metadata": {},
   "outputs": [
    {
     "name": "stdout",
     "output_type": "stream",
     "text": [
      "[592 368 560  75 270 104 532 578  32  72]\n",
      "[592 368 560  75 270 104 532 578  32  72]\n"
     ]
    }
   ],
   "source": [
    "arr3 = arr1 * arr2\n",
    "print(arr3)\n",
    "arr4 = np.multiply(arr1,arr2)\n",
    "print(arr4)"
   ]
  },
  {
   "cell_type": "code",
   "execution_count": 37,
   "metadata": {},
   "outputs": [
    {
     "name": "stdout",
     "output_type": "stream",
     "text": [
      "[0.43243243 0.69565217 0.45714286 0.12       0.37037037 0.15384615\n",
      " 0.67857143 0.5        0.03125    0.05555556]\n",
      "[0.43243243 0.69565217 0.45714286 0.12       0.37037037 0.15384615\n",
      " 0.67857143 0.5        0.03125    0.05555556]\n"
     ]
    }
   ],
   "source": [
    "arr3 = arr1 / arr2\n",
    "print(arr3)\n",
    "arr4 = np.divide(arr1,arr2)\n",
    "print(arr4)"
   ]
  },
  {
   "cell_type": "code",
   "execution_count": 38,
   "metadata": {},
   "outputs": [
    {
     "name": "stdout",
     "output_type": "stream",
     "text": [
      "[47 33 45 35 37 36 38 44 42 46]\n",
      "[7 3 5 5 7 6 8 4 2 6]\n"
     ]
    }
   ],
   "source": [
    "arr3 = arr2 + 10\n",
    "print(arr3)\n",
    "arr4 = arr3 % 10\n",
    "print(arr4)"
   ]
  },
  {
   "cell_type": "code",
   "execution_count": 43,
   "metadata": {},
   "outputs": [
    {
     "name": "stdout",
     "output_type": "stream",
     "text": [
      "[[[1 0 0 0]\n",
      "  [1 0 0 0]\n",
      "  [1 0 0 0]]]\n"
     ]
    }
   ],
   "source": [
    "ans = np.reciprocal(ar3)\n",
    "print(ans)"
   ]
  },
  {
   "cell_type": "code",
   "execution_count": 40,
   "metadata": {},
   "outputs": [
    {
     "name": "stdout",
     "output_type": "stream",
     "text": [
      "Array5: \n",
      "[[1 2 3 4]\n",
      " [5 6 7 8]]\n",
      "\n",
      "Array6: \n",
      "[[5 6 7 8]\n",
      " [1 2 3 4]]\n"
     ]
    }
   ],
   "source": [
    "arr5 = np.array([[1,2,3,4],[5,6,7,8]])\n",
    "arr6 = np.array([[5,6,7,8],[1,2,3,4]])\n",
    "print(\"Array5: \")\n",
    "print(arr5)\n",
    "print()\n",
    "print(\"Array6: \")\n",
    "print(arr6)"
   ]
  },
  {
   "cell_type": "code",
   "execution_count": 41,
   "metadata": {},
   "outputs": [
    {
     "name": "stdout",
     "output_type": "stream",
     "text": [
      "[[ 6  8 10 12]\n",
      " [ 6  8 10 12]]\n"
     ]
    }
   ],
   "source": [
    "arr7 = arr5 + arr6\n",
    "print(arr7)"
   ]
  },
  {
   "cell_type": "markdown",
   "metadata": {},
   "source": [
    "# <font color='orange'> Arithmetic Functions</font>"
   ]
  },
  {
   "cell_type": "code",
   "execution_count": 46,
   "metadata": {},
   "outputs": [
    {
     "data": {
      "text/plain": [
       "np.int64(9)"
      ]
     },
     "execution_count": 46,
     "metadata": {},
     "output_type": "execute_result"
    }
   ],
   "source": [
    "arr = np.array([5, 8, 9])\n",
    "np.max(arr)"
   ]
  },
  {
   "cell_type": "code",
   "execution_count": 45,
   "metadata": {},
   "outputs": [
    {
     "data": {
      "text/plain": [
       "array([ 9, 15])"
      ]
     },
     "execution_count": 45,
     "metadata": {},
     "output_type": "execute_result"
    }
   ],
   "source": [
    "arr = np.array([[5, 8, 9],\n",
    "                [2, 6, 15]])\n",
    "np.max(arr, axis= 0)\n",
    "np.max(arr, axis= 1)"
   ]
  },
  {
   "cell_type": "code",
   "execution_count": 49,
   "metadata": {},
   "outputs": [
    {
     "data": {
      "text/plain": [
       "np.int64(5)"
      ]
     },
     "execution_count": 49,
     "metadata": {},
     "output_type": "execute_result"
    }
   ],
   "source": [
    "arr = np.array([5, 8, 9])\n",
    "np.min(arr)\n"
   ]
  },
  {
   "cell_type": "code",
   "execution_count": 48,
   "metadata": {},
   "outputs": [
    {
     "data": {
      "text/plain": [
       "array([5, 2])"
      ]
     },
     "execution_count": 48,
     "metadata": {},
     "output_type": "execute_result"
    }
   ],
   "source": [
    "arr = np.array([[5, 8, 9],\n",
    "                [2, 6, 15]])\n",
    "np.min(arr, axis= 0)\n",
    "np.min(arr, axis= 1)"
   ]
  },
  {
   "cell_type": "code",
   "execution_count": 50,
   "metadata": {},
   "outputs": [
    {
     "data": {
      "text/plain": [
       "array([2, 5, 4])"
      ]
     },
     "execution_count": 50,
     "metadata": {},
     "output_type": "execute_result"
    }
   ],
   "source": [
    "arr1 = np.array([2, 3, 4])\n",
    "arr2 = np.array([1, 5, 2])\n",
    "np.maximum(arr1, arr2)"
   ]
  },
  {
   "cell_type": "code",
   "execution_count": 51,
   "metadata": {},
   "outputs": [
    {
     "data": {
      "text/plain": [
       "array([1, 3, 2])"
      ]
     },
     "execution_count": 51,
     "metadata": {},
     "output_type": "execute_result"
    }
   ],
   "source": [
    "arr1 = np.array([2, 3, 4])\n",
    "arr2 = np.array([1, 5, 2])\n",
    "np.minimum(arr1, arr2)"
   ]
  },
  {
   "cell_type": "code",
   "execution_count": 72,
   "metadata": {},
   "outputs": [
    {
     "data": {
      "text/plain": [
       "np.int64(3)"
      ]
     },
     "execution_count": 72,
     "metadata": {},
     "output_type": "execute_result"
    }
   ],
   "source": [
    "arr = np.array([4, 8, 9, 14, 2])\n",
    "np.argmax(arr) # Returns the index of the maximum value along the axis"
   ]
  },
  {
   "cell_type": "code",
   "execution_count": 53,
   "metadata": {},
   "outputs": [
    {
     "data": {
      "text/plain": [
       "array([1, 0, 1])"
      ]
     },
     "execution_count": 53,
     "metadata": {},
     "output_type": "execute_result"
    }
   ],
   "source": [
    "\n",
    "arr = np.array([[10, 14, 12],\n",
    "                [13, 11, 15]])\n",
    "np.argmax(arr, axis = 0)"
   ]
  },
  {
   "cell_type": "code",
   "execution_count": 54,
   "metadata": {},
   "outputs": [
    {
     "data": {
      "text/plain": [
       "np.int64(4)"
      ]
     },
     "execution_count": 54,
     "metadata": {},
     "output_type": "execute_result"
    }
   ],
   "source": [
    "arr = np.array([4, 8, 9, 14, 2])\n",
    "np.argmin(arr) # Returns the index of the minimum value along the axis"
   ]
  },
  {
   "cell_type": "code",
   "execution_count": 57,
   "metadata": {},
   "outputs": [
    {
     "data": {
      "text/plain": [
       "array([0, 1, 0])"
      ]
     },
     "execution_count": 57,
     "metadata": {},
     "output_type": "execute_result"
    }
   ],
   "source": [
    "arr = np.array([[10, 14, 12],\n",
    "               [13, 11, 15]])\n",
    "np.argmin(arr, axis = 0)"
   ]
  },
  {
   "cell_type": "code",
   "execution_count": 56,
   "metadata": {},
   "outputs": [
    {
     "data": {
      "text/plain": [
       "array([0, 1])"
      ]
     },
     "execution_count": 56,
     "metadata": {},
     "output_type": "execute_result"
    }
   ],
   "source": [
    "np.argmin(arr, axis = 1)"
   ]
  },
  {
   "cell_type": "code",
   "execution_count": 58,
   "metadata": {},
   "outputs": [
    {
     "data": {
      "text/plain": [
       "array([ 9, 15, 21])"
      ]
     },
     "execution_count": 58,
     "metadata": {},
     "output_type": "execute_result"
    }
   ],
   "source": [
    "arr = np.array([[5, 7, 9],\n",
    "                [4, 8, 12]])\n",
    "\n",
    "np.sum(arr, axis = 0)"
   ]
  },
  {
   "cell_type": "code",
   "execution_count": 59,
   "metadata": {},
   "outputs": [
    {
     "data": {
      "text/plain": [
       "array([21, 24])"
      ]
     },
     "execution_count": 59,
     "metadata": {},
     "output_type": "execute_result"
    }
   ],
   "source": [
    "np.sum(arr, axis = 1)"
   ]
  },
  {
   "cell_type": "code",
   "execution_count": 60,
   "metadata": {},
   "outputs": [
    {
     "data": {
      "text/plain": [
       "array([ 4.5,  7.5, 10.5])"
      ]
     },
     "execution_count": 60,
     "metadata": {},
     "output_type": "execute_result"
    }
   ],
   "source": [
    "arr = np.array([[5, 7, 9],\n",
    "                [4, 8, 12]])\n",
    "\n",
    "np.mean(arr, axis = 0)"
   ]
  },
  {
   "cell_type": "code",
   "execution_count": 61,
   "metadata": {},
   "outputs": [
    {
     "data": {
      "text/plain": [
       "array([7., 8.])"
      ]
     },
     "execution_count": 61,
     "metadata": {},
     "output_type": "execute_result"
    }
   ],
   "source": [
    "np.mean(arr, axis = 1)"
   ]
  },
  {
   "cell_type": "code",
   "execution_count": 62,
   "metadata": {},
   "outputs": [
    {
     "data": {
      "text/plain": [
       "array([ 2., 12.])"
      ]
     },
     "execution_count": 62,
     "metadata": {},
     "output_type": "execute_result"
    }
   ],
   "source": [
    "arr = np.array([[1., 2.],\n",
    "                [3., 4.]])\n",
    "\n",
    "np.prod(arr, axis=1)"
   ]
  },
  {
   "cell_type": "code",
   "execution_count": 63,
   "metadata": {},
   "outputs": [
    {
     "data": {
      "text/plain": [
       "array([2.        , 6.        , 3.46410162, 7.        ])"
      ]
     },
     "execution_count": 63,
     "metadata": {},
     "output_type": "execute_result"
    }
   ],
   "source": [
    "arr = np.array([4, 36, 12, 49])\n",
    "np.sqrt(arr)"
   ]
  },
  {
   "cell_type": "code",
   "execution_count": 66,
   "metadata": {},
   "outputs": [
    {
     "data": {
      "text/plain": [
       "array([5.45981500e+01, 4.31123155e+15, 1.62754791e+05, 1.90734657e+21])"
      ]
     },
     "execution_count": 66,
     "metadata": {},
     "output_type": "execute_result"
    }
   ],
   "source": [
    "np.exp(arr)"
   ]
  },
  {
   "cell_type": "code",
   "execution_count": 67,
   "metadata": {},
   "outputs": [
    {
     "data": {
      "text/plain": [
       "array([-0.7568025 , -0.99177885, -0.53657292, -0.95375265])"
      ]
     },
     "execution_count": 67,
     "metadata": {},
     "output_type": "execute_result"
    }
   ],
   "source": [
    "np.sin(arr)"
   ]
  },
  {
   "cell_type": "code",
   "execution_count": 68,
   "metadata": {},
   "outputs": [
    {
     "data": {
      "text/plain": [
       "array([-0.65364362, -0.12796369,  0.84385396,  0.30059254])"
      ]
     },
     "execution_count": 68,
     "metadata": {},
     "output_type": "execute_result"
    }
   ],
   "source": [
    "np.cos(arr)"
   ]
  },
  {
   "cell_type": "code",
   "execution_count": 69,
   "metadata": {},
   "outputs": [
    {
     "data": {
      "text/plain": [
       "array([0.83290912, 1.5040774 , 1.79175947])"
      ]
     },
     "execution_count": 69,
     "metadata": {},
     "output_type": "execute_result"
    }
   ],
   "source": [
    "arr = np.array([2.3, 4.5, 6])\n",
    "np.log(arr)"
   ]
  },
  {
   "cell_type": "code",
   "execution_count": 70,
   "metadata": {},
   "outputs": [
    {
     "data": {
      "text/plain": [
       "array([2., 6., 4., 5., 6.])"
      ]
     },
     "execution_count": 70,
     "metadata": {},
     "output_type": "execute_result"
    }
   ],
   "source": [
    "arr = np.array([2.5, 6.3, 4.9, 5.0, 6.8])\n",
    "np.floor(arr)"
   ]
  },
  {
   "cell_type": "code",
   "execution_count": 71,
   "metadata": {},
   "outputs": [
    {
     "data": {
      "text/plain": [
       "array([3., 7., 5., 5., 7.])"
      ]
     },
     "execution_count": 71,
     "metadata": {},
     "output_type": "execute_result"
    }
   ],
   "source": [
    "arr = np.array([2.5, 6.3, 4.9, 5.0, 6.8])\n",
    "np.ceil(arr)"
   ]
  },
  {
   "cell_type": "code",
   "execution_count": 36,
   "metadata": {},
   "outputs": [
    {
     "data": {
      "text/plain": [
       "np.int64(32)"
      ]
     },
     "execution_count": 36,
     "metadata": {},
     "output_type": "execute_result"
    }
   ],
   "source": [
    "# If both a and b are 1-D arrays, it is inner product of vectors.\n",
    "arr1 = np.array([1, 2, 3])\n",
    "arr2 = np.array([4, 5, 6])\n",
    "np.dot(a= arr1, b= arr2) # (4*1) + (2*5) + (3*6)"
   ]
  },
  {
   "cell_type": "markdown",
   "metadata": {},
   "source": [
    "# <font color='orange'> Numpy shape and reshape</font>"
   ]
  },
  {
   "cell_type": "code",
   "execution_count": 5,
   "metadata": {},
   "outputs": [
    {
     "name": "stdout",
     "output_type": "stream",
     "text": [
      "(3, 2)\n"
     ]
    }
   ],
   "source": [
    "sh = np.array([[2.5, 6.3],[4.9, 6.8], [1.2 , 4.8]])\n",
    "print(sh.shape)"
   ]
  },
  {
   "cell_type": "code",
   "execution_count": 12,
   "metadata": {},
   "outputs": [
    {
     "name": "stdout",
     "output_type": "stream",
     "text": [
      "[[[[1 2 3 4]]]]\n",
      "\n",
      "4\n",
      "\n",
      "(1, 1, 1, 4)\n",
      "\n",
      "[[1 2]\n",
      " [3 4]]\n",
      "\n",
      "[1 2 3 4]\n"
     ]
    }
   ],
   "source": [
    "sh1 = np.array([1,2,3,4] , ndmin = 4)\n",
    "print(sh1)\n",
    "print()\n",
    "print(sh1.ndim)\n",
    "print()\n",
    "print(sh1.shape)\n",
    "print()\n",
    "print(sh1.reshape(2,2))\n",
    "print()\n",
    "print(sh1.reshape(-1))"
   ]
  },
  {
   "cell_type": "markdown",
   "metadata": {},
   "source": [
    "# <font color='orange'> Indexing & Slicing </font>"
   ]
  },
  {
   "cell_type": "markdown",
   "metadata": {},
   "source": [
    "# Same as Python"
   ]
  },
  {
   "cell_type": "code",
   "execution_count": 13,
   "metadata": {},
   "outputs": [
    {
     "name": "stdout",
     "output_type": "stream",
     "text": [
      "1\n",
      "2\n",
      "3\n",
      "4\n"
     ]
    }
   ],
   "source": [
    "sh1 = np.array([1,2,3,4])\n",
    "for i in np.nditer(sh1):\n",
    "    print(i)"
   ]
  },
  {
   "cell_type": "code",
   "execution_count": 14,
   "metadata": {},
   "outputs": [
    {
     "name": "stdout",
     "output_type": "stream",
     "text": [
      "1\n",
      "2\n",
      "3\n",
      "4\n",
      "1\n",
      "2\n",
      "3\n",
      "4\n",
      "1\n",
      "2\n",
      "3\n",
      "4\n"
     ]
    }
   ],
   "source": [
    "sh3 = np.array([[[1,2,3,4],[1,2,3,4],[1,2,3,4]]])\n",
    "for i in np.nditer(sh3):\n",
    "    print(i)"
   ]
  },
  {
   "cell_type": "code",
   "execution_count": 15,
   "metadata": {},
   "outputs": [
    {
     "name": "stdout",
     "output_type": "stream",
     "text": [
      "(0, 0, 0) 1\n",
      "(0, 0, 1) 2\n",
      "(0, 0, 2) 3\n",
      "(0, 0, 3) 4\n",
      "(0, 1, 0) 1\n",
      "(0, 1, 1) 2\n",
      "(0, 1, 2) 3\n",
      "(0, 1, 3) 4\n",
      "(0, 2, 0) 1\n",
      "(0, 2, 1) 2\n",
      "(0, 2, 2) 3\n",
      "(0, 2, 3) 4\n"
     ]
    }
   ],
   "source": [
    "sh3 = np.array([[[1,2,3,4],[1,2,3,4],[1,2,3,4]]])\n",
    "for i,d in np.ndenumerate(sh3):\n",
    "    print(i,d)"
   ]
  },
  {
   "cell_type": "markdown",
   "metadata": {},
   "source": [
    "# <font color='orange'> Copy & View </font>\n",
    "\n",
    "Copy: New array with new location and any changes in original doesn't reflect in copy one and vice versa.  \n",
    "View: It just views the original array."
   ]
  },
  {
   "cell_type": "code",
   "execution_count": 16,
   "metadata": {},
   "outputs": [
    {
     "name": "stdout",
     "output_type": "stream",
     "text": [
      "[[2.5 6.3]\n",
      " [4.9 6.8]\n",
      " [1.2 4.8]]\n",
      "[[2.5 6.3]\n",
      " [4.9 6.8]\n",
      " [1.2 4.8]]\n"
     ]
    }
   ],
   "source": [
    "sh = np.array([[2.5, 6.3],[4.9, 6.8], [1.2 , 4.8]])\n",
    "print(sh)\n",
    "var = np.copy(sh)\n",
    "print(var)"
   ]
  },
  {
   "cell_type": "code",
   "execution_count": 18,
   "metadata": {},
   "outputs": [
    {
     "name": "stdout",
     "output_type": "stream",
     "text": [
      "[[2.5 6.3]\n",
      " [4.9 6.8]\n",
      " [1.2 4.8]]\n",
      "[[2.5 6.3]\n",
      " [4.9 6.8]\n",
      " [1.2 4.8]]\n"
     ]
    }
   ],
   "source": [
    "sh = np.array([[2.5, 6.3],[4.9, 6.8], [1.2 , 4.8]])\n",
    "print(sh)\n",
    "var = sh.view()\n",
    "print(var)"
   ]
  },
  {
   "cell_type": "markdown",
   "metadata": {},
   "source": [
    "# <font color='orange'> Join and Split </font>"
   ]
  },
  {
   "cell_type": "code",
   "execution_count": 21,
   "metadata": {},
   "outputs": [
    {
     "name": "stdout",
     "output_type": "stream",
     "text": [
      "[16  6  9 19 12  6  7 10 17 14]\n",
      "\n",
      "[36 20 24 38 22 39 22 26 30 22]\n",
      "\n",
      "[16  6  9 19 12  6  7 10 17 14 36 20 24 38 22 39 22 26 30 22]\n"
     ]
    }
   ],
   "source": [
    "arr1 = np.random.randint(low=0, high=20, size=10)\n",
    "arr2 = np.random.randint(low=20, high=40, size=10)\n",
    "print(arr1)\n",
    "print()\n",
    "print(arr2)\n",
    "print()\n",
    "arr3 = np.concatenate((arr1,arr2))\n",
    "print(arr3)"
   ]
  },
  {
   "cell_type": "code",
   "execution_count": 23,
   "metadata": {},
   "outputs": [
    {
     "name": "stdout",
     "output_type": "stream",
     "text": [
      "[[1 2]\n",
      " [2 4]]\n",
      "\n",
      "[[1 2]\n",
      " [2 4]]\n",
      "\n",
      "[[1 2 1 2]\n",
      " [2 4 2 4]]\n",
      "\n",
      "[[1 2]\n",
      " [2 4]\n",
      " [1 2]\n",
      " [2 4]]\n"
     ]
    }
   ],
   "source": [
    "arr1 = np.array([[1,2],[2,4]])\n",
    "arr2 = np.array([[1,2],[2,4]])\n",
    "print(arr1)\n",
    "print()\n",
    "print(arr2)\n",
    "print()\n",
    "arr3 = np.concatenate((arr1,arr2), axis = 1)\n",
    "print(arr3)\n",
    "print()\n",
    "arr4 = np.concatenate((arr1,arr2), axis = 0)\n",
    "print(arr4)"
   ]
  },
  {
   "cell_type": "code",
   "execution_count": 33,
   "metadata": {},
   "outputs": [
    {
     "name": "stdout",
     "output_type": "stream",
     "text": [
      "[1 2]\n",
      "\n",
      "[3 4]\n",
      "\n",
      "[[1 3]\n",
      " [2 4]]\n",
      "\n",
      "[1 2 3 4]\n",
      "\n",
      "[[1 2]\n",
      " [3 4]]\n",
      "\n",
      "[[[1 3]\n",
      "  [2 4]]]\n"
     ]
    }
   ],
   "source": [
    "ar_1 = np.array([1,2])\n",
    "ar_2 = np.array([3,4])\n",
    "print(ar_1)\n",
    "print()\n",
    "print(ar_2)\n",
    "print()\n",
    "ar_3 = np.stack((ar_1,ar_2), axis = 1)\n",
    "print(ar_3)\n",
    "print()\n",
    "ar_4 = np.hstack((ar_1,ar_2)) #row\n",
    "print(ar_4)\n",
    "print()\n",
    "ar_5 = np.vstack((ar_1,ar_2)) #column\n",
    "print(ar_5)\n",
    "print()\n",
    "ar_6 = np.dstack((ar_1,ar_2)) #height\n",
    "print(ar_6)"
   ]
  },
  {
   "cell_type": "code",
   "execution_count": 35,
   "metadata": {},
   "outputs": [
    {
     "name": "stdout",
     "output_type": "stream",
     "text": [
      "[1 2 3 4 5 6]\n",
      "\n",
      "[array([1, 2]), array([3, 4]), array([5, 6])]\n",
      "<class 'list'>\n"
     ]
    }
   ],
   "source": [
    "ara = np.array([1,2,3,4,5,6])\n",
    "print(ara)\n",
    "print()\n",
    "var = np.array_split(ara,3)\n",
    "print(var)\n",
    "print(type(var))"
   ]
  }
 ],
 "metadata": {
  "kernelspec": {
   "display_name": "Python 3",
   "language": "python",
   "name": "python3"
  },
  "language_info": {
   "codemirror_mode": {
    "name": "ipython",
    "version": 3
   },
   "file_extension": ".py",
   "mimetype": "text/x-python",
   "name": "python",
   "nbconvert_exporter": "python",
   "pygments_lexer": "ipython3",
   "version": "3.12.4"
  }
 },
 "nbformat": 4,
 "nbformat_minor": 2
}
