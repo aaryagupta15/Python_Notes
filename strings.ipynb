{
 "cells": [
  {
   "cell_type": "code",
   "execution_count": 2,
   "metadata": {},
   "outputs": [],
   "source": [
    "from itertools import count\n",
    "from math import *"
   ]
  },
  {
   "cell_type": "markdown",
   "metadata": {},
   "source": [
    "#### ADDITION OF ALL STRINGS USING '+'"
   ]
  },
  {
   "cell_type": "markdown",
   "metadata": {},
   "source": [
    "a = \"I am Dancing\" + \"2\" + 3   \n",
    "print(a)\n",
    "#### Error: can only concatenate str (not \"int\") to str"
   ]
  },
  {
   "cell_type": "code",
   "execution_count": 49,
   "metadata": {},
   "outputs": [
    {
     "name": "stdout",
     "output_type": "stream",
     "text": [
      "Happy2\n"
     ]
    }
   ],
   "source": [
    "b = \"Happy\" + \"2\"\n",
    "print(b) # Happy2"
   ]
  },
  {
   "cell_type": "code",
   "execution_count": 37,
   "metadata": {},
   "outputs": [
    {
     "name": "stdout",
     "output_type": "stream",
     "text": [
      "WSyes\n"
     ]
    }
   ],
   "source": [
    "a = \"WS\"\n",
    "b = \"yes\"\n",
    "c = a+b\n",
    "print(c)"
   ]
  },
  {
   "cell_type": "markdown",
   "metadata": {},
   "source": [
    "#### REPLICATION OPERATOR"
   ]
  },
  {
   "cell_type": "code",
   "execution_count": 38,
   "metadata": {},
   "outputs": [
    {
     "name": "stdout",
     "output_type": "stream",
     "text": [
      "HappyHappy\n",
      "#####\n"
     ]
    }
   ],
   "source": [
    "print(2*\"Happy\")\n",
    "print(\"#\"*5)"
   ]
  },
  {
   "cell_type": "markdown",
   "metadata": {},
   "source": [
    "#### IN & NOT IN"
   ]
  },
  {
   "cell_type": "code",
   "execution_count": 39,
   "metadata": {},
   "outputs": [
    {
     "name": "stdout",
     "output_type": "stream",
     "text": [
      "False\n",
      "False\n",
      "False\n",
      "True\n",
      "True\n"
     ]
    }
   ],
   "source": [
    "print(\"S\" in \"Happy\")\n",
    "print(\"h\" in \"Happy\")\n",
    "print(\"y\" not in \"Happy\")\n",
    "print(\"Y\" not in \"Happy\")\n",
    "print(\"a\" in \"Happy\")"
   ]
  },
  {
   "cell_type": "code",
   "execution_count": 40,
   "metadata": {},
   "outputs": [
    {
     "name": "stdout",
     "output_type": "stream",
     "text": [
      "a\n"
     ]
    }
   ],
   "source": [
    "greater = \"a\" if \"a\">\"A\" else \"A\"\n",
    "print(greater)"
   ]
  },
  {
   "cell_type": "code",
   "execution_count": 41,
   "metadata": {},
   "outputs": [
    {
     "name": "stdout",
     "output_type": "stream",
     "text": [
      "Hello World Haanji Good morning\n",
      "LEVAL SABKE NIKLENGE\n",
      "19\n",
      "e\n",
      "7\n",
      "False\n"
     ]
    }
   ],
   "source": [
    "first_variable = \"Haanji Good morning\"\n",
    "second_variable = \"Leval Sabke niklenge\"\n",
    "print(\"Hello World\" +\" \" + first_variable) # Hello World Haanji Good morning\n",
    "print(second_variable.upper()) # LEVAL SABKE NIKLENGE\n",
    "print(len(first_variable)) # 19\n",
    "print(second_variable[10]) # e\n",
    "print(first_variable.index(\"G\")) # 7\n",
    "print(first_variable.isupper()) # False"
   ]
  },
  {
   "cell_type": "markdown",
   "metadata": {},
   "source": [
    "#### SEP & END "
   ]
  },
  {
   "cell_type": "code",
   "execution_count": 42,
   "metadata": {},
   "outputs": [
    {
     "name": "stdout",
     "output_type": "stream",
     "text": [
      "My name is Aarya. Gupta is my surname\n",
      "My name is Aarya. Gupta is my surname\n",
      "My name is Aarya.+Gupta is my surname\n",
      "Printing mutiple points\n",
      " * Statement 1\n",
      " * Statement 2\n",
      " * Statement 3 \n",
      " * \n",
      "new line\n"
     ]
    }
   ],
   "source": [
    "print(\"My name is Aarya.\",\"Gupta is my surname\") \n",
    "print(\"My name is Aarya.\",\"Gupta is my surname\", sep=None) \n",
    "print(\"My name is Aarya.\",\"Gupta is my surname\", sep='+') \n",
    "\n",
    "print('Printing mutiple points', end='\\n * ')\n",
    "print('Statement 1', end='\\n * ')\n",
    "print('Statement 2', end='\\n * ')\n",
    "print('Statement 3 \\n * ')\n",
    "print('new line', end=None) "
   ]
  },
  {
   "cell_type": "markdown",
   "metadata": {},
   "source": [
    "#### FUNCTIONS FOR STRING MANIPULATION\n",
    "isalnum(): True if all characters are letters & numbers else false if anyone is special charactor including space  \n",
    "isalpha(): True if only alphabets are there  \n",
    "isdigit(): True if only digits  \n",
    "isspace(): True if all characters are whitespaces  \n",
    "lstrip(): Returns left trim version of string  \n",
    "rstrip(): Returns right trim version of string  \n",
    "title(): Converts first character of each word in uppercase   \n",
    "istitle(): True if first character of each word is upper   \n",
    "strip(): Returns trim version of string  \n",
    "startswith(): True if starts with specified value  \n",
    "endswith(): True if ends with specified value  \n",
    "replace(): specified value is replaced by a specified value  \n",
    "join(): Join the elements of the iterable to the end of string  \n",
    "split(): Returns a list at the specified seperator  \n",
    "partition(): Returns a tuple where a string is divided into three parts  "
   ]
  },
  {
   "cell_type": "code",
   "execution_count": 81,
   "metadata": {},
   "outputs": [
    {
     "name": "stdout",
     "output_type": "stream",
     "text": [
      "    I am Aarya Gupta\n",
      "20\n",
      "1\n",
      "6\n",
      "False\n",
      "I am Aarya Gupta\n",
      "    I Am Aarya Gupta\n",
      "16\n"
     ]
    }
   ],
   "source": [
    "from itertools import count\n",
    "from math import *\n",
    "word = \"    I am Aarya Gupta\"\n",
    "print(word)\n",
    "print(len(word))\n",
    "print(word.count(\"m\"))\n",
    "print(word.find(\"a\"))\n",
    "print(word.isalnum())\n",
    "print(word.strip())\n",
    "print(word.title())\n",
    "print(word.index(\"u\"))"
   ]
  },
  {
   "cell_type": "code",
   "execution_count": 47,
   "metadata": {},
   "outputs": [
    {
     "name": "stdout",
     "output_type": "stream",
     "text": [
      "Aarya\n",
      "Gupta\n",
      "Happy\n",
      "Dance\n"
     ]
    }
   ],
   "source": [
    "from itertools import count\n",
    "from math import *\n",
    "\n",
    "word1 = \"Aarya\"\n",
    "word2 = 'Gupta'\n",
    "word3 = '''Happy'''\n",
    "word4 = \"\"\"Dance\"\"\"\n",
    "\n",
    "print(word1)\n",
    "print(word2)\n",
    "print(word3)\n",
    "print(word4)"
   ]
  },
  {
   "cell_type": "code",
   "execution_count": 48,
   "metadata": {},
   "outputs": [
    {
     "name": "stdout",
     "output_type": "stream",
     "text": [
      "H\n",
      "a\n",
      "p\n",
      "p\n",
      "y\n"
     ]
    }
   ],
   "source": [
    "word1 = \"Happy\"\n",
    "for char in word1:\n",
    "    print(char)"
   ]
  },
  {
   "cell_type": "code",
   "execution_count": 54,
   "metadata": {},
   "outputs": [
    {
     "name": "stdout",
     "output_type": "stream",
     "text": [
      "e\n",
      "c\n",
      "n\n",
      "a\n",
      "D\n"
     ]
    }
   ],
   "source": [
    "word1 = \"Dance\"\n",
    "length = len(word1)\n",
    "for char in range(length-1,-1,-1):\n",
    "    print(word1[char])\n"
   ]
  },
  {
   "cell_type": "code",
   "execution_count": 78,
   "metadata": {},
   "outputs": [
    {
     "name": "stdout",
     "output_type": "stream",
     "text": [
      "Dance\n",
      "e\n",
      "Dance\n",
      "ecna\n"
     ]
    }
   ],
   "source": [
    "word1 = \"Dance\"\n",
    "print(word1[0:])\n",
    "print(word1[-1])\n",
    "print(word1[:len(word1)])\n",
    "print(word1[len(word1):0:-1])"
   ]
  },
  {
   "cell_type": "code",
   "execution_count": 82,
   "metadata": {},
   "outputs": [
    {
     "name": "stdout",
     "output_type": "stream",
     "text": [
      "True\n",
      "False\n"
     ]
    }
   ],
   "source": [
    "word1 = \" \"\n",
    "word2 = \" abc \"\n",
    "print(word1.isspace())\n",
    "print(word2.isspace())"
   ]
  },
  {
   "cell_type": "code",
   "execution_count": 7,
   "metadata": {},
   "outputs": [
    {
     "name": "stdout",
     "output_type": "stream",
     "text": [
      "I Am Aarya Gupta\n",
      "False\n",
      "i am Chiya Gupta\n"
     ]
    }
   ],
   "source": [
    "word1 = \"i am Aarya Gupta\"\n",
    "print(word1.title())\n",
    "print(word1.istitle())\n",
    "print(word1.replace(\"Aarya\",\"Chiya\"))"
   ]
  },
  {
   "cell_type": "code",
   "execution_count": 1,
   "metadata": {},
   "outputs": [
    {
     "name": "stdout",
     "output_type": "stream",
     "text": [
      "I-am-Aarya-Gupta\n",
      "I:am:Aarya:Gupta\n",
      "Joined string: Hello World in Python\n"
     ]
    }
   ],
   "source": [
    "t = [\"I\", \"am\", \"Aarya\", \"Gupta\"] # A list\n",
    "word1 = \"-\".join(t)\n",
    "print(word1)\n",
    "\n",
    "print(\":\".join(t))\n",
    "\n",
    "# Sample list of words\n",
    "words = [\"Hello\", \"World\", \"in\", \"Python\"]\n",
    "\n",
    "# Using str.join(iterable) for joining\n",
    "joined_string = \" \".join(words)\n",
    "print(\"Joined string:\", joined_string)"
   ]
  },
  {
   "cell_type": "markdown",
   "metadata": {},
   "source": [
    "#### 5: str.translate()\n",
    "\n",
    "**Description**: translate() is used for mapping characters in a string to other characters. It requires a translation table using str.maketrans() to specify mappings between characters.\n",
    "\n",
    "**Usage**: Useful for more complex character replacements or transformations where specific mappings or translations are required."
   ]
  },
  {
   "cell_type": "code",
   "execution_count": 3,
   "metadata": {},
   "outputs": [
    {
     "name": "stdout",
     "output_type": "stream",
     "text": [
      "Original Text: HeLLo! HOw aRe yOu?\n",
      "Translated Text: hello how aRe you?\n"
     ]
    },
    {
     "data": {
      "text/plain": [
       "'HeLLo! How aRe you?'"
      ]
     },
     "execution_count": 3,
     "metadata": {},
     "output_type": "execute_result"
    }
   ],
   "source": [
    "# Sample text with mixed case and punctuation\n",
    "text = \"HeLLo! HOw aRe yOu?\"\n",
    "\n",
    "# Define translation mapping\n",
    "mapping = {\n",
    "    'H': 'h',\n",
    "    'L': 'l',\n",
    "    'O': 'o',\n",
    "    '!': '',\n",
    "}\n",
    "\n",
    "# Create translation table using str.maketrans()\n",
    "translation_table = str.maketrans(mapping)\n",
    "\n",
    "# Use translate() with the translation table\n",
    "translated_text = text.translate(translation_table)\n",
    "\n",
    "print(\"Original Text:\", text)\n",
    "print(\"Translated Text:\", translated_text)\n",
    "\n",
    "# use replace!!!\n",
    "text.replace(\"O\", \"o\")"
   ]
  },
  {
   "cell_type": "code",
   "execution_count": 17,
   "metadata": {},
   "outputs": [
    {
     "name": "stdout",
     "output_type": "stream",
     "text": [
      "('I ', 'am', ' Aarya Gupta')\n",
      "['I', 'am', 'Aarya', 'Gupta']\n",
      "['I', 'am', 'Aarya', 'Gupta']\n",
      "('I ', 'am', ' Aarya Gupta')\n"
     ]
    }
   ],
   "source": [
    "word1 = \"I am Aarya Gupta\"\n",
    "y = word1.split() # Splits into a list\n",
    "w = word1.partition(\"am\") # Splits that specified value in a tuple\n",
    "print(w)\n",
    "print(y)\n",
    "\n",
    "print(word1.split())\n",
    "print(word1.partition(\"am\"))"
   ]
  }
 ],
 "metadata": {
  "kernelspec": {
   "display_name": "Python 3",
   "language": "python",
   "name": "python3"
  },
  "language_info": {
   "codemirror_mode": {
    "name": "ipython",
    "version": 3
   },
   "file_extension": ".py",
   "mimetype": "text/x-python",
   "name": "python",
   "nbconvert_exporter": "python",
   "pygments_lexer": "ipython3",
   "version": "3.12.4"
  }
 },
 "nbformat": 4,
 "nbformat_minor": 2
}
