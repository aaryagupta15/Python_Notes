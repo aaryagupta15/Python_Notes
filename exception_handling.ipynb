{
 "cells": [
  {
   "cell_type": "markdown",
   "metadata": {},
   "source": []
  },
  {
   "cell_type": "markdown",
   "metadata": {},
   "source": [
    "# <font color=skyblue>Types of Syntax Error</font>\n",
    "\n",
    "1. Value error: Error thrown when function argument is of inappropriate type  \n",
    "2. Name error: object not found  \n",
    "3. Type error: wrong type of value used  \n",
    "4. Module error: Module not found  \n",
    "5. Attribute error: wrong operation/function applied on the data type  \n",
    "6. Key error: Key not found in the dictionary  \n"
   ]
  },
  {
   "cell_type": "markdown",
   "metadata": {},
   "source": [
    "# 1. We can use else clause with exception handling.\n",
    "try:\n",
    "    result = 100 / 2\n",
    "except ZeroDivisionError:\n",
    "    print(f\"Division Error\")\n",
    "else:\n",
    "    print(\"Result is\", result)\n",
    "\n",
    "# 2. Using the finally clause in exception handling\n",
    "try:\n",
    "    result = 10 / 0\n",
    "except ZeroDivisionError:\n",
    "    print(\"Division by zero!\")\n",
    "finally:\n",
    "    print(\"This block of code will always execute.\")\n",
    "\n",
    "# 3. Raising exceptions using raise\n",
    "try:\n",
    "    raise ValueError(\"This is a custom error message.\")\n",
    "except ValueError as e:\n",
    "    print(\"An error occurred:\", str(e))\n",
    "\n",
    "\n",
    "\n"
   ]
  },
  {
   "cell_type": "markdown",
   "metadata": {},
   "source": [
    "### Google Login Example"
   ]
  },
  {
   "cell_type": "code",
   "execution_count": 10,
   "metadata": {},
   "outputs": [
    {
     "name": "stdout",
     "output_type": "stream",
     "text": [
      "Wrong device login\n",
      "Work Done!\n"
     ]
    }
   ],
   "source": [
    "class Google:\n",
    "    def __init__(self,name,email,password,device):\n",
    "        self.name = name\n",
    "        self.email = email\n",
    "        self.password = password\n",
    "        self.device = device\n",
    "    \n",
    "    def login(self,email,password,device):\n",
    "        if device != self.device:\n",
    "            raise Exception(\"Wrong device login\")\n",
    "        elif password == self.password and email == self.email:\n",
    "            print('welcome')\n",
    "        else:\n",
    "            print('Login error')\n",
    "\n",
    "obj = Google('aarya','g.aarya1504@gmil.com','123','windows')\n",
    "\n",
    "try:\n",
    "    obj.login('g.aarya1504@gmil.com','123','android')\n",
    "    print('Login Successfull')\n",
    "except Exception as e:\n",
    "    print(e)\n",
    "finally:\n",
    "    print('Work Done!')"
   ]
  },
  {
   "cell_type": "code",
   "execution_count": 14,
   "metadata": {},
   "outputs": [
    {
     "name": "stdout",
     "output_type": "stream",
     "text": [
      "Wrong device login\n",
      "Work Done!\n"
     ]
    }
   ],
   "source": [
    "class CustomException(Exception):\n",
    "    def __init__(self,message):\n",
    "        print(message)\n",
    "\n",
    "class Google:\n",
    "    def __init__(self,name,email,password,device):\n",
    "        self.name = name\n",
    "        self.email = email\n",
    "        self.password = password\n",
    "        self.device = device\n",
    "    \n",
    "    def login(self,email,password,device):\n",
    "        if device != self.device:\n",
    "            raise CustomException(\"Wrong device login\")\n",
    "        elif password == self.password and email == self.email:\n",
    "            print('welcome')\n",
    "        else:\n",
    "            print('Login error')\n",
    "\n",
    "obj = Google('aarya','g.aarya1504@gmil.com','123','windows')\n",
    "\n",
    "try:\n",
    "    obj.login('g.aarya1504@gmil.com','123','android')\n",
    "    print('Login Successfull')\n",
    "except CustomException as e:\n",
    "    e.__init__\n",
    "finally:\n",
    "    print('Work Done!')\n"
   ]
  }
 ],
 "metadata": {
  "kernelspec": {
   "display_name": "Python 3",
   "language": "python",
   "name": "python3"
  },
  "language_info": {
   "codemirror_mode": {
    "name": "ipython",
    "version": 3
   },
   "file_extension": ".py",
   "mimetype": "text/x-python",
   "name": "python",
   "nbconvert_exporter": "python",
   "pygments_lexer": "ipython3",
   "version": "3.12.4"
  }
 },
 "nbformat": 4,
 "nbformat_minor": 2
}
