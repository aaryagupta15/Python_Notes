{
 "cells": [
  {
   "cell_type": "markdown",
   "metadata": {},
   "source": [
    "#### List can store any types of values [12, \"Kevin\", False] and can be modified\n",
    "#### Can have duplicate data"
   ]
  },
  {
   "cell_type": "code",
   "execution_count": 11,
   "metadata": {},
   "outputs": [
    {
     "name": "stdout",
     "output_type": "stream",
     "text": [
      "A a r y a \n",
      "y\n"
     ]
    }
   ],
   "source": [
    "lst = list(\"Aarya\")\n",
    "for char in lst:\n",
    " print(char, end=\" \")\n",
    "\n",
    "print(\"\\n\"+lst[3])"
   ]
  },
  {
   "cell_type": "code",
   "execution_count": 25,
   "metadata": {},
   "outputs": [
    {
     "name": "stdout",
     "output_type": "stream",
     "text": [
      "[] [1, 2, 3] [1, 2, 'aarya', 6.4] [1, 2, 3, [4, 5, 6], [55, 55, 45]]\n",
      "\n",
      "\n",
      "[2, 'aarya']\n",
      "[6.4, 'aarya', 2, 1]\n",
      "[1, 2, 'aarya', 6.4]\n",
      "[6.4, 'aarya', 2]\n"
     ]
    }
   ],
   "source": [
    "lst = []\n",
    "lst1= [1,2,3]\n",
    "lst3= [1,2,\"aarya\",6.4]\n",
    "lst4 = [1,2,3,[4,5,6],[55,55,45]]\n",
    "print(lst,lst1,lst3,lst4)\n",
    "print(\"\\n\")\n",
    "\n",
    "print(lst3[1:3])\n",
    "print(lst3[::-1])\n",
    "print(lst3[:len(lst3)])\n",
    "print(lst3[len(lst3):0:-1])\n"
   ]
  },
  {
   "cell_type": "markdown",
   "metadata": {},
   "source": [
    "lst = eval(input(\"Enter list to be applied: \"))\n",
    "\n",
    "Eval function is to convert input into numeric form and then store in the list."
   ]
  },
  {
   "cell_type": "code",
   "execution_count": 3,
   "metadata": {},
   "outputs": [
    {
     "name": "stdout",
     "output_type": "stream",
     "text": [
      "(12, 12, 12) <class 'tuple'>\n"
     ]
    }
   ],
   "source": [
    "lst = eval(input(\"Enter list: \"))\n",
    "print(lst,type(lst))"
   ]
  },
  {
   "cell_type": "code",
   "execution_count": 12,
   "metadata": {},
   "outputs": [
    {
     "name": "stdout",
     "output_type": "stream",
     "text": [
      "False\n"
     ]
    }
   ],
   "source": [
    "print([1,2,3,4,4,5,6,7] > [9,9,9,7,8,8,9])"
   ]
  },
  {
   "cell_type": "code",
   "execution_count": 18,
   "metadata": {},
   "outputs": [
    {
     "name": "stdout",
     "output_type": "stream",
     "text": [
      "[1, 2, 3, 4, 4, 5, 6, 7, 9, 9, 9, 7, 8, 8, 9]\n",
      "[1, 2, 3, 4, 4]\n",
      "[1, 2, 3, 4, 4, 1, 2, 3, 4, 4]\n"
     ]
    }
   ],
   "source": [
    "print([1,2,3,4,4,5,6,7] + [9,9,9,7,8,8,9])\n",
    "\n",
    "list1 = [1,2,3,4]\n",
    "list1 += [4]\n",
    "print(list1)\n",
    "\n",
    "print(list1*2)"
   ]
  },
  {
   "cell_type": "code",
   "execution_count": 32,
   "metadata": {},
   "outputs": [
    {
     "name": "stdout",
     "output_type": "stream",
     "text": [
      "[0, 1, 'aarya', 6.4]\n",
      "['a', 'b', 'aarya', 6.4]\n",
      "['a', 'b', '6', '4', '8']\n",
      "['a', 'b', '6', '6', '4', '8']\n"
     ]
    }
   ],
   "source": [
    "lst3= [1,2,\"aarya\",6.4]\n",
    "lst3[0:2] = [0,1]\n",
    "print(lst3)\n",
    "lst3[0:2] = \"ab\"\n",
    "print(lst3)\n",
    "lst3[2:] = \"648\"\n",
    "print(lst3)\n",
    "lst3[3:] = \"648\"\n",
    "print(lst3)"
   ]
  }
 ],
 "metadata": {
  "kernelspec": {
   "display_name": "Python 3",
   "language": "python",
   "name": "python3"
  },
  "language_info": {
   "codemirror_mode": {
    "name": "ipython",
    "version": 3
   },
   "file_extension": ".py",
   "mimetype": "text/x-python",
   "name": "python",
   "nbconvert_exporter": "python",
   "pygments_lexer": "ipython3",
   "version": "3.12.4"
  }
 },
 "nbformat": 4,
 "nbformat_minor": 2
}
